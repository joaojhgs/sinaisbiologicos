{
 "cells": [
  {
   "cell_type": "markdown",
   "metadata": {},
   "source": [
    "# Transformação do dataset\n",
    "\n",
    "Neste notebook será realizada a transformação do dataset EEG em .txt para um arquivo .npy (numpy array)."
   ]
  },
  {
   "cell_type": "code",
   "execution_count": 2,
   "metadata": {},
   "outputs": [
    {
     "name": "stdout",
     "output_type": "stream",
     "text": [
      "(297480, 8)\n",
      "(47147, 8)\n",
      "(344127, 8)\n"
     ]
    }
   ],
   "source": [
    "import numpy as np \n",
    "\n",
    "file1 = '../Nathalia/IA/OpenBCISession_2023-10-10_14-23-05-nathalia/OpenBCI-RAW-2023-10-10_14-23-56.txt'\n",
    "file2 = '../Nathalia/IA/OpenBCISession_2023-10-10_14-23-05-nathalia/OpenBCI-RAW-2023-10-10_14-43-45.txt'\n",
    "\n",
    "data1 = np.loadtxt(file1, dtype=float, delimiter=',',skiprows=5, usecols=range(1,9))\n",
    "print(data1.shape)\n",
    "\n",
    "data2 = np.loadtxt(file2, dtype=float, delimiter=',',skiprows=5, usecols=range(1,9))\n",
    "print(data2.shape)\n",
    "\n",
    "data = np.concatenate((data1[500:,:], data2), axis=0)\n",
    "print(data.shape)\n",
    "\n",
    "np.save('../Nathalia/data.npy',data)"
   ]
  },
  {
   "cell_type": "markdown",
   "metadata": {},
   "source": [
    "**Tarefa**: Analisar os `N` TXTs (arquivos OpenBCI), verificando a necessidade de remover dados do início e fim de cada um deles (remoção de picos). Importante realizar uma pré-visualização rápida (dentro do OpenBCI GUI) para remover possíveis ocorrências falhas no meio do sinal.\n",
    "\n",
    "**Tarefa 2**: Concatenar todos os TXTs resultantes, salvando em um único arquivo dataset `.npy`."
   ]
  }
 ],
 "metadata": {
  "kernelspec": {
   "display_name": "venv",
   "language": "python",
   "name": "python3"
  },
  "language_info": {
   "codemirror_mode": {
    "name": "ipython",
    "version": 3
   },
   "file_extension": ".py",
   "mimetype": "text/x-python",
   "name": "python",
   "nbconvert_exporter": "python",
   "pygments_lexer": "ipython3",
   "version": "3.11.9"
  }
 },
 "nbformat": 4,
 "nbformat_minor": 2
}
